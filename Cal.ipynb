{
 "cells": [
  {
   "cell_type": "code",
   "execution_count": 1,
   "metadata": {},
   "outputs": [],
   "source": [
    "import numpy as np\n",
    "from astropy import units as u\n",
    "from scipy.integrate import quad"
   ]
  },
  {
   "cell_type": "code",
   "execution_count": 16,
   "metadata": {},
   "outputs": [],
   "source": [
    "results = np.loadtxt('build/out.txt')"
   ]
  },
  {
   "cell_type": "code",
   "execution_count": 14,
   "metadata": {},
   "outputs": [
    {
     "data": {
      "text/plain": [
       "6020.745609999999"
      ]
     },
     "execution_count": 14,
     "metadata": {},
     "output_type": "execute_result"
    }
   ],
   "source": [
    "results.sum()"
   ]
  },
  {
   "cell_type": "code",
   "execution_count": 4,
   "metadata": {},
   "outputs": [],
   "source": [
    "def f(x):\n",
    "    return x ** -1.1\n",
    "\n",
    "def xf(x):\n",
    "    return x * x ** -1.1"
   ]
  },
  {
   "cell_type": "code",
   "execution_count": 6,
   "metadata": {},
   "outputs": [],
   "source": [
    "averageE = quad(xf, 1, 100)[0] / quad(f, 1, 100)[0]"
   ]
  },
  {
   "cell_type": "code",
   "execution_count": 7,
   "metadata": {},
   "outputs": [
    {
     "data": {
      "text/plain": [
       "18.695741390820395"
      ]
     },
     "execution_count": 7,
     "metadata": {},
     "output_type": "execute_result"
    }
   ],
   "source": [
    "averageE"
   ]
  },
  {
   "cell_type": "code",
   "execution_count": 8,
   "metadata": {},
   "outputs": [],
   "source": [
    "rate = 6886 / (3000 * 1000 * averageE * u.MeV)"
   ]
  },
  {
   "cell_type": "code",
   "execution_count": 10,
   "metadata": {},
   "outputs": [
    {
     "data": {
      "text/latex": [
       "$76.628916 \\; \\mathrm{\\frac{1}{erg}}$"
      ],
      "text/plain": [
       "<Quantity 76.6289159 1 / erg>"
      ]
     },
     "execution_count": 10,
     "metadata": {},
     "output_type": "execute_result"
    }
   ],
   "source": [
    "rate.to(u.erg ** -1)"
   ]
  },
  {
   "cell_type": "code",
   "execution_count": 12,
   "metadata": {},
   "outputs": [
    {
     "data": {
      "text/plain": [
       "0.9395932866059672"
      ]
     },
     "execution_count": 12,
     "metadata": {},
     "output_type": "execute_result"
    }
   ],
   "source": [
    "7.2e7 / 76.6289/ 1e6"
   ]
  },
  {
   "cell_type": "code",
   "execution_count": 17,
   "metadata": {},
   "outputs": [
    {
     "data": {
      "text/plain": [
       "array([[  0.     ,  18.4614 ],\n",
       "       [  0.     , 255.25   ],\n",
       "       [  1.     ,  14.3954 ],\n",
       "       [  0.     , 136.591  ],\n",
       "       [  0.     ,  10.3283 ],\n",
       "       [  0.     ,  10.0501 ],\n",
       "       [  0.     ,   6.77686],\n",
       "       [  0.     ,  40.6805 ],\n",
       "       [  0.     ,  50.5453 ],\n",
       "       [  0.     ,   1.70747],\n",
       "       [  0.     ,  38.9647 ],\n",
       "       [  1.     ,  92.0436 ],\n",
       "       [  1.     ,   2.80036],\n",
       "       [  0.     ,  71.027  ],\n",
       "       [  0.     ,   1.24822],\n",
       "       [  0.     ,  84.8247 ],\n",
       "       [  0.     ,   2.55746],\n",
       "       [  0.     ,  46.0612 ],\n",
       "       [  0.     ,   1.24205],\n",
       "       [  0.     ,   2.9659 ],\n",
       "       [  1.     ,   2.6114 ],\n",
       "       [  0.     ,  18.2233 ],\n",
       "       [  0.     ,   3.39807],\n",
       "       [  0.     ,  29.5107 ],\n",
       "       [  0.     ,  91.0275 ],\n",
       "       [  0.     , 180.885  ],\n",
       "       [  0.     ,   1.74956],\n",
       "       [  0.     ,   5.19196],\n",
       "       [  0.     ,   1.80032],\n",
       "       [  0.     ,  10.3944 ],\n",
       "       [  0.     ,   1.15857],\n",
       "       [  0.     ,  13.4931 ],\n",
       "       [  0.     ,  26.7519 ],\n",
       "       [  0.     ,   1.07001],\n",
       "       [  0.     , 184.923  ],\n",
       "       [  1.     , 102.552  ],\n",
       "       [  0.     ,  51.9102 ],\n",
       "       [  0.     ,  37.6887 ],\n",
       "       [  0.     ,  37.6353 ],\n",
       "       [  0.     ,   2.36932],\n",
       "       [  0.     , 243.922  ],\n",
       "       [  0.     ,   3.87364],\n",
       "       [  0.     ,   2.21825],\n",
       "       [  0.     ,   3.25418],\n",
       "       [  0.     ,  31.2902 ],\n",
       "       [  0.     ,   8.97252],\n",
       "       [  0.     ,   2.79861],\n",
       "       [  1.     ,   8.41339],\n",
       "       [  0.     , 190.218  ],\n",
       "       [  0.     ,   5.90121],\n",
       "       [  0.     ,   1.21715],\n",
       "       [  0.     , 289.431  ],\n",
       "       [  0.     ,  11.5901 ],\n",
       "       [  0.     ,  72.0655 ],\n",
       "       [  0.     ,   4.31258],\n",
       "       [  0.     ,   1.07024],\n",
       "       [  0.     ,   2.51941],\n",
       "       [  0.     , 116.751  ],\n",
       "       [  0.     ,   6.14601],\n",
       "       [  0.     ,   1.40358],\n",
       "       [  0.     ,   1.23569],\n",
       "       [  0.     , 114.274  ],\n",
       "       [  0.     ,   2.82179],\n",
       "       [  0.     ,  11.7653 ],\n",
       "       [  0.     ,  31.4632 ],\n",
       "       [  1.     ,   3.0379 ],\n",
       "       [  0.     , 266.668  ],\n",
       "       [  0.     ,   8.30313],\n",
       "       [  0.     ,  41.6218 ],\n",
       "       [  0.     ,   4.82599],\n",
       "       [  3.     ,   9.07932],\n",
       "       [  0.     , 213.768  ],\n",
       "       [  0.     ,  79.739  ],\n",
       "       [  0.     ,   1.05022],\n",
       "       [  0.     ,  50.1192 ],\n",
       "       [  0.     ,  24.5922 ],\n",
       "       [  0.     ,   3.47567],\n",
       "       [  0.     ,   5.33439],\n",
       "       [  0.     ,  72.8563 ],\n",
       "       [  1.     ,   5.66025],\n",
       "       [  0.     ,   1.28694],\n",
       "       [  0.     ,  73.3397 ],\n",
       "       [  0.     , 250.213  ],\n",
       "       [  0.     ,  30.0697 ],\n",
       "       [  0.     ,   9.23704],\n",
       "       [  0.     ,  76.7131 ],\n",
       "       [  0.     ,   6.96461],\n",
       "       [  0.     ,   1.24097],\n",
       "       [  0.     , 280.709  ],\n",
       "       [  0.     ,   1.14624],\n",
       "       [  0.     ,  51.165  ],\n",
       "       [  0.     ,   7.99252],\n",
       "       [  0.     ,  27.8817 ],\n",
       "       [  0.     ,   1.30511],\n",
       "       [  0.     ,  22.8186 ],\n",
       "       [  0.     ,  58.8973 ],\n",
       "       [  0.     ,   2.74783],\n",
       "       [  0.     ,  22.263  ],\n",
       "       [  0.     ,   2.68473],\n",
       "       [  0.     ,   1.40221]])"
      ]
     },
     "execution_count": 17,
     "metadata": {},
     "output_type": "execute_result"
    }
   ],
   "source": [
    "results"
   ]
  },
  {
   "cell_type": "code",
   "execution_count": null,
   "metadata": {},
   "outputs": [],
   "source": []
  }
 ],
 "metadata": {
  "kernelspec": {
   "display_name": "Python 3",
   "language": "python",
   "name": "python3"
  },
  "language_info": {
   "codemirror_mode": {
    "name": "ipython",
    "version": 3
   },
   "file_extension": ".py",
   "mimetype": "text/x-python",
   "name": "python",
   "nbconvert_exporter": "python",
   "pygments_lexer": "ipython3",
   "version": "3.7.2"
  }
 },
 "nbformat": 4,
 "nbformat_minor": 2
}
